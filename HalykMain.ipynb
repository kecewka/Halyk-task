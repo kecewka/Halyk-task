{
 "cells": [
  {
   "cell_type": "markdown",
   "metadata": {},
   "source": [
    "### Done by Askar Aytkazin\n",
    "#### github.com/kecewka"
   ]
  },
  {
   "cell_type": "code",
   "execution_count": 1,
   "metadata": {},
   "outputs": [],
   "source": [
    "import pandas as pd\n",
    "import time\n",
    "from memory_profiler import profile"
   ]
  },
  {
   "cell_type": "code",
   "execution_count": 2,
   "metadata": {},
   "outputs": [],
   "source": [
    "start_time = time.time()"
   ]
  },
  {
   "cell_type": "code",
   "execution_count": 3,
   "metadata": {},
   "outputs": [],
   "source": [
    "df = pd.read_csv('BTRecords.csv', thousands=',')\n",
    "df['Date'] = pd.to_datetime(df['Date'])\n",
    "#df"
   ]
  },
  {
   "cell_type": "code",
   "execution_count": 4,
   "metadata": {},
   "outputs": [],
   "source": [
    "df1 = (df.groupby(['Date', 'Description'], as_index=False)['Withdrawls'].agg(['min','max','mean']).reset_index())\n",
    "df2 = (df.groupby('Date', as_index=False)['Withdrawls'].agg(['min','max','mean']).reset_index())\n",
    "\n",
    "df3 = (pd.concat([df1, df2.reindex(df1.columns, fill_value='', axis=1)])\n",
    "        .sort_values(['Date','Description'], ascending=[True, False], ignore_index=True))\n",
    "df3.columns = ['Date', 'Type', 'Min', 'Max', 'Avg']\n",
    "#df3"
   ]
  },
  {
   "cell_type": "code",
   "execution_count": 5,
   "metadata": {},
   "outputs": [],
   "source": [
    "df3.to_csv('results.csv', encoding='utf-8', index=False)"
   ]
  },
  {
   "cell_type": "code",
   "execution_count": 6,
   "metadata": {},
   "outputs": [
    {
     "name": "stdout",
     "output_type": "stream",
     "text": [
      "19.340654373168945\n"
     ]
    }
   ],
   "source": [
    "print(time.time() - start_time)"
   ]
  },
  {
   "cell_type": "markdown",
   "metadata": {},
   "source": [
    "#### Профайлинг не работает в IPython пространстве, скриншот физического запуска файла находится в репозитории. Функция ниже используется физической версией и является идентичным коду выше. Данный код выполняется на минуту дольше из-за замеров памяти."
   ]
  },
  {
   "cell_type": "code",
   "execution_count": ,
   "metadata": {},
   "outputs": [
    {
     "data": {
      "text/plain": [
       "\"\\n@profile\\ndef my_func():\\n    start_time = time.time()\\n    \\n    df = pd.read_csv('BTRecords.csv', thousands=',')\\n    df['Date'] = pd.to_datetime(df['Date'])\\n    #df\\n\\n    df1 = (df.groupby(['Date', 'Description'], as_index=False)['Withdrawls'].agg(['min','max','mean']).reset_index())\\n    df2 = (df.groupby('Date', as_index=False)['Withdrawls'].agg(['min','max','mean']).reset_index())\\n\\n    df3 = (pd.concat([df1, df2.reindex(df1.columns, fill_value='', axis=1)])\\n            .sort_values(['Date','Description'], ascending=[True, False], ignore_index=True))\\n    df3.columns = ['Date', 'Type', 'Min', 'Max', 'Avg']\\n    #df3\\n    df3.to_csv('Hresults.csv', encoding='utf-8', index=False)\\n    print(time.time() - start_time)\\n    \\nmy_func()\\n\""
      ]
     },
     "execution_count": 16,
     "metadata": {},
     "output_type": "execute_result"
    }
   ],
   "source": [
    "\"\"\"\n",
    "@profile\n",
    "def my_func():\n",
    "    start_time = time.time()\n",
    "    \n",
    "    df = pd.read_csv('BTRecords.csv', thousands=',')\n",
    "    df['Date'] = pd.to_datetime(df['Date'])\n",
    "    #df\n",
    "\n",
    "    df1 = (df.groupby(['Date', 'Description'], as_index=False)['Withdrawls'].agg(['min','max','mean']).reset_index())\n",
    "    df2 = (df.groupby('Date', as_index=False)['Withdrawls'].agg(['min','max','mean']).reset_index())\n",
    "\n",
    "    df3 = (pd.concat([df1, df2.reindex(df1.columns, fill_value='', axis=1)])\n",
    "            .sort_values(['Date','Description'], ascending=[True, False], ignore_index=True))\n",
    "    df3.columns = ['Date', 'Type', 'Min', 'Max', 'Avg']\n",
    "    #df3\n",
    "    df3.to_csv('Hresults.csv', encoding='utf-8', index=False)\n",
    "    print(time.time() - start_time)\n",
    "    \n",
    "my_func()\n",
    "\"\"\""
   ]
  },
  {
   "cell_type": "code",
   "execution_count": null,
   "metadata": {},
   "outputs": [],
   "source": []
  }
 ],
 "metadata": {
  "kernelspec": {
   "display_name": "Python 3",
   "language": "python",
   "name": "python3"
  },
  "language_info": {
   "codemirror_mode": {
    "name": "ipython",
    "version": 3
   },
   "file_extension": ".py",
   "mimetype": "text/x-python",
   "name": "python",
   "nbconvert_exporter": "python",
   "pygments_lexer": "ipython3",
   "version": "3.8.5"
  }
 },
 "nbformat": 4,
 "nbformat_minor": 4
}
